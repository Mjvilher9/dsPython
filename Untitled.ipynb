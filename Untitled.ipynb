{
 "cells": [
  {
   "cell_type": "markdown",
   "metadata": {},
   "source": [
    "# Perfil de Investigador\n",
    "\n",
    "## Datos generales\n",
    "* **Dirección**: Km. 16.5 Carretera al Salvador, Residenciales Terravista Coventry, MI S1 L20\n",
    "* **E-mail**: mjvillatoro@ufm.edu\n",
    "* **Estado Civil**: Soltera\n",
    "* **DPI**:\n",
    "\n",
    "## Redes Sociales\n",
    "* **Twitter**: Mariajose4_\n",
    "* **Instagram**: Mariajovh_\n",
    "\n",
    "## Bio\n",
    "\n",
    "Estudiante de Segundo Año de Ingeniería Empresarial de la Universidad Francisco Marroquín. Graduada como Bachiller en Ciencias y Letras con un Diplomado de Tecnología de la Región en el Colegio San Francisco Javier.. \n",
    "\n",
    "## Estudios\n",
    "\n",
    "Año| Estudios\n",
    "---|----------\n",
    "2014 | Ingresó la Universidad Francisco Marroquín\n",
    "2013 | Bachiller en Ciencias y Letras, Colegio San Francisco Javier\n",
    "2008 | Estudios Primarios\n"
   ]
  }
 ],
 "metadata": {
  "kernelspec": {
   "display_name": "Python 2",
   "language": "python",
   "name": "python2"
  },
  "language_info": {
   "codemirror_mode": {
    "name": "ipython",
    "version": 2
   },
   "file_extension": ".py",
   "mimetype": "text/x-python",
   "name": "python",
   "nbconvert_exporter": "python",
   "pygments_lexer": "ipython2",
   "version": "2.7.11"
  }
 },
 "nbformat": 4,
 "nbformat_minor": 0
}
